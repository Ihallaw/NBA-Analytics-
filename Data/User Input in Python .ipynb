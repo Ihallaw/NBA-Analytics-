{
 "cells": [
  {
   "cell_type": "code",
   "execution_count": 1,
   "metadata": {
    "collapsed": true
   },
   "outputs": [],
   "source": [
    "from urllib.request import urlopen\n",
    "from bs4 import BeautifulSoup\n",
    "import pandas as pd\n",
    "import requests \n",
    "\n",
    "\n"
   ]
  },
  {
   "cell_type": "code",
   "execution_count": 2,
   "metadata": {},
   "outputs": [
    {
     "data": {
      "text/plain": [
       "['Player', 'From', 'To', 'Pos', 'Ht', 'Wt', 'Birth Date', 'College']"
      ]
     },
     "execution_count": 2,
     "metadata": {},
     "output_type": "execute_result"
    }
   ],
   "source": [
    "# From this we must first import all the player names. \n",
    "# The name list will contain the names of all the players \n",
    "# The Categories list will contain the titles for Name, Date started in NBA etc. )\n",
    "\n",
    "# For the sake of testing we will use Short as the variable in place of alphabet to save time \n",
    "\n",
    "\n",
    "short = ['a','b']\n",
    "alphabet = ['a','b','c','d','e','f','g','h','i','j','k','l','m','n','o','p','q','r','s','t','u','v','w','z']\n",
    "url_list = []\n",
    "name_list = []\n",
    "\n",
    "for letter in short :\n",
    "    url1 = 'https://www.basketball-reference.com/players/{}/'.format(letter)\n",
    "    url_list.append(url1)\n",
    "\n",
    "sample_url = url_list[0]\n",
    "\n",
    "html = urlopen(sample_url)\n",
    "soup = BeautifulSoup(html, 'lxml')\n",
    "categories = [th.getText() for th in soup.findAll('tr')[0].findAll('th')]\n",
    "\n",
    "categories \n",
    "\n",
    "\n",
    "\n",
    "\n",
    "\n",
    "\n",
    "\n",
    "    \n",
    "    \n"
   ]
  },
  {
   "cell_type": "code",
   "execution_count": 3,
   "metadata": {},
   "outputs": [
    {
     "name": "stdout",
     "output_type": "stream",
     "text": [
      "['Alaa Abdelnaby', 'Zaid Abdul-Aziz', 'Kareem Abdul-Jabbar*', 'Mahmoud Abdul-Rauf', 'Tariq Abdul-Wahad', 'Shareef Abdur-Rahim', 'Tom Abernethy', 'Forest Able', 'John Abramovic', 'Alex Abrines', 'Alex Acker', 'Don Ackerman', 'Mark Acres', 'Bud Acton', 'Quincy Acy', 'Alvan Adams', 'Don Adams', 'George Adams', 'Hassan Adams', 'Jordan Adams', 'Michael Adams', 'Steven Adams', 'Rafael Addison', 'Bam Adebayo', 'Rick Adelman', 'Jeff Adrien', 'Arron Afflalo', 'Maurice Ager', 'Mark Aguirre', 'Blake Ahearn', 'Danny Ainge', 'Matthew Aitch', 'Alexis Ajinca', 'Henry Akin', 'Josh Akognon', 'Solomon Alabi', 'Mark Alarie', 'Gary Alcorn', 'Furkan Aldemir', 'Cole Aldrich', 'LaMarcus Aldridge', 'Chuck Aleksinas', 'Cliff Alexander', 'Cory Alexander', 'Courtney Alexander', 'Gary Alexander', 'Joe Alexander', 'Victor Alexander', 'Steve Alford', 'Bill Allen', 'Bob Allen', 'Jarrett Allen', 'Jerome Allen', 'Kadeem Allen', 'Lavoy Allen', 'Lucius Allen', 'Malik Allen', 'Randy Allen', 'Ray Allen', 'Tony Allen', 'Willie Allen', 'Odis Allison', 'Lance Allred', 'Darrell Allums', 'Morris Almond', 'Derrick Alston', 'Rafer Alston', 'Peter Aluma', 'John Amaechi', 'Ashraf Amaya', 'Al-Farouq Aminu', 'Lou Amundson', 'Bob Anderegg', 'Chris Andersen', 'David Andersen', 'Alan Anderson', 'Andrew Anderson', 'Antonio Anderson', 'Cliff Anderson', 'Dan Anderson', 'Dan Anderson', 'Derek Anderson', 'Dwight Anderson', 'Eric Anderson', 'Greg Anderson', 'J.J. Anderson', 'James Anderson', 'Jerome Anderson', 'Justin Anderson', 'Kenny Anderson', 'Kim Anderson', 'Kyle Anderson', 'Michael Anderson', 'Nick Anderson', 'Richard Anderson', 'Ron Anderson', 'Ryan Anderson', 'Shandon Anderson', 'Willie Anderson', 'Wally Anderzunas', 'Martynas Andriuskevicius', 'Don Anielak', 'Ike Anigbogu', 'Michael Ansley', 'Chris Anstey', 'Giannis Antetokounmpo', 'Thanasis Antetokounmpo', 'Carmelo Anthony', 'Greg Anthony', 'Joel Anthony', 'Pero Antic', 'OG Anunoby', 'Keith Appling', 'Rafael Araujo', 'Stacey Arceneaux', 'Robert Archibald', 'Tiny Archibald*', 'Ryan Arcidiacono', 'Jim Ard', 'Gilbert Arenas', 'Trevor Ariza', 'Paul Arizin*', 'Joe Arlauckas', 'B.J. Armstrong', 'Bob Armstrong', 'Brandon Armstrong', 'Curly Armstrong', 'Darrell Armstrong', 'Hilton Armstrong', 'Tate Armstrong', 'Jesse Arnelle', 'Jay Arnette', 'Bob Arnzen', 'Carlos Arroyo', 'Darrell Arthur', 'John Arthurs', 'Jamel Artis', 'Omer Asik', 'Vincent Askew', 'Keith Askins', 'Don Asmonga', 'Dick Atha', 'Chucky Atkins', 'Al Attles', 'Chet Aubuchon', 'Stacey Augmon', 'D.J. Augustin', 'James Augustine', 'Isaac Austin', 'Johnny Austin', 'Ken Austin', 'Anthony Avent', 'Bird Averitt', 'William Avery', 'Dennis Awtrey', 'Gustavo Ayon', 'Jeff Ayres', 'Kelenna Azubuike', 'Chris Babb', 'Luke Babbitt', 'Milos Babic', 'Johnny Bach', 'Dwayne Bacon', 'Henry Bacon', 'Jim Baechtold', 'Dalibor Bagaric', 'John Bagley', 'Carl Bailey', 'Gus Bailey', 'James Bailey', 'Thurl Bailey', 'Toby Bailey', 'Cameron Bairstow', 'Jimmie Baker', 'LaMark Baker', 'Maurice Baker', 'Norm Baker', 'Ron Baker', 'Vin Baker', 'Wade Baldwin', 'Renaldo Balkman', 'Cedric Ball', 'Lonzo Ball', 'Greg Ballard', 'Herschel Baltimore', 'Gene Banks', 'Marcus Banks', 'Walker Banks', 'Ken Bannister', 'Mike Bantom', 'John Barber', 'Leandro Barbosa', 'Steve Bardo', 'J.J. Barea', 'Andrea Bargnani', 'Cliff Barker', 'Tom Barker', 'Charles Barkley*', 'Erick Barkley', 'Don Barksdale*', 'Harrison Barnes', 'Harry Barnes', 'Jim Barnes', 'Marvin Barnes', 'Matt Barnes', 'Dick Barnett', 'Jim Barnett', 'Nathaniel Barnett', 'John Barnhill', 'Norton Barnhill', 'Leo Barnhorst', 'John Barr', 'Mike Barr', 'Moe Barr', 'Andre Barrett', 'Ernie Barrett', 'Mike Barrett', 'Earl Barron', 'Dana Barros', 'Brent Barry', 'Drew Barry', 'Jon Barry', 'Rick Barry*', 'Ed Bartels', 'Vic Bartolome', 'Will Barton', 'Eddie Basden', 'Jerry Baskerville', 'Brandon Bass', 'Tim Bassett', 'Maceo Baston', 'Mengke Bateer', 'Billy Ray Bates', 'Esteban Batista', 'Mike Batiste', 'Tony Battie', 'Shane Battier', 'John Battle', 'Kenny Battle', 'Dave Batton', 'Lloyd Batts', 'Nicolas Batum', 'Johnny Baum', 'Frankie Baumholtz', 'Lonny Baxter', 'Jerryd Bayless', 'Elgin Baylor*', 'Howard Bayne', 'Aron Baynes', 'Sergei Bazarevich', 'Kent Bazemore', 'Ed Beach', 'Bradley Beal', 'Al Beard', 'Butch Beard', 'Ralph Beard', 'Charles Beasley', 'Jerome Beasley', 'John Beasley', 'Malik Beasley', 'Michael Beasley', 'Zelmo Beaty*', 'Rodrigue Beaubois', 'Byron Beck', 'Corey Beck', 'Ernie Beck', 'Arthur Becker', 'Moe Becker', 'Bob Bedell', 'William Bedford', 'Hank Beenders', 'Ron Behagen', 'Elmer Behnke', 'Marco Belinelli', 'Charlie Bell', 'Dennis Bell', 'Jordan Bell', 'Raja Bell', 'Troy Bell', 'Whitey Bell', 'Walt Bellamy*', \"DeAndre' Bembry\", 'Irv Bemoras', 'Leon Benbow', 'Dragan Bender', 'Jonathan Bender', 'Jerrelle Benimon', 'Benoit Benjamin', 'Corey Benjamin', 'Anthony Bennett', 'Elmer Bennett', 'Mario Bennett', 'Mel Bennett', 'Spider Bennett', 'Tony Bennett', 'Winston Bennett', 'David Benoit', 'Keith Benson', 'Kent Benson', 'Ben Bentil', 'Gene Berce', 'Gary Bergen', 'Larry Bergh', 'Ricky Berry', 'Walter Berry', 'Davis Bertans', 'Del Beshore', 'Travis Best', 'Patrick Beverley', 'Sim Bhullar', 'Wesley Bialosuknia', 'Al Bianchi', 'Hank Biasatti', 'Henry Bibby', 'Mike Bibby', 'Ed Biedenbach', 'Andris Biedrins', 'Don Bielke', 'Bob Bigelow', 'Lionel Billingy', 'Chauncey Billups', 'Dave Bing*', 'Joe Binion', 'Khem Birch', 'Jabari Bird', 'Jerry Bird', 'Larry Bird*', 'Otis Birdsong', 'Gale Bishop', 'Bismack Biyombo', 'Nemanja Bjelica', 'Uwe Blab', 'Charlie Black', 'Norman Black', 'Tarik Black', 'Tom Black', 'Rolando Blackman', 'Alex Blackwell', 'Cory Blackwell', 'James Blackwell', 'Nate Blackwell', 'DeJuan Blair', 'Steve Blake', 'Antonio Blakeney', 'Will Blalock', 'George Blaney', 'Lance Blanks', 'Ricky Blanton', 'Andray Blatche', 'Mookie Blaylock', 'Eric Bledsoe', 'Leon Blevins', 'John Block', 'Mike Bloom', 'Corie Blount', 'Mark Blount', 'Vander Blue', 'Ray Blume', 'Nelson Bobb', 'Tony Bobbitt', 'Bucky Bockhorn', 'Tom Boerwinkle', 'Keith Bogans', 'Bogdan Bogdanovic', 'Bojan Bogdanovic', 'Muggsy Bogues', 'Andrew Bogut', 'Etdrick Bohannon', 'Manute Bol', 'Bill Bolger', 'Joel Bolomboy', 'Doug Bolstorff', 'George Bon Salle', 'Phil Bond', 'Walter Bond', 'Dexter Boney', 'Ron Bonham', 'Anthony Bonner', 'Matt Bonner', 'Butch Booker', 'Devin Booker', 'Melvin Booker', 'Trevor Booker', 'Josh Boone', 'Ron Boone', 'Calvin Booth', 'Keith Booth', 'Bob Boozer', 'Carlos Boozer', 'Curtis Borchardt', 'Jake Bornheimer', 'Lazaro Borrell', 'Ike Borsavage', 'Vince Boryla', 'Chris Bosh', 'Jim Bostic', 'Lawrence Boston', 'Tom Boswell', 'Ruben Boumtje-Boumtje', 'Don Boven', 'Cal Bowdler', 'Bruce Bowen', 'Ryan Bowen', 'Tommie Bowens', 'Anthony Bowie', 'Sam Bowie', 'Orbie Bowling', 'Ira Bowman', 'Nate Bowman', 'Donnie Boyce', 'Dennis Boyd', 'Freddie Boyd', 'Ken Boyd', 'Earl Boykins', 'Harry Boykoff', 'Winford Boynes', 'Cedric Bozeman', 'Steve Bracey', 'Craig Brackins', 'Gary Bradds', 'Alex Bradley', 'Alonzo Bradley', 'Avery Bradley', 'Bill Bradley', 'Bill Bradley*', 'Charles Bradley', 'Dudley Bradley', 'Jim Bradley', 'Joe Bradley', 'Michael Bradley', 'Shawn Bradley', 'Tony Bradley', 'Mark Bradtke', 'Marques Bragg', 'Torraye Braggs', 'A.J. Bramlett', 'Adrian Branch', 'Elton Brand', 'Terrell Brandon', 'Bob Brannum', 'Brad Branson', 'Jesse Branson', 'Jim Brasco', 'Mike Bratz', 'Carl Braun', 'Tim Breaux', 'J.R. Bremer', 'Pete Brennan', 'Tom Brennan', 'Randy Breuer', 'Corey Brewer', 'Jamison Brewer', 'Jim Brewer', 'Ron Brewer', 'Ronnie Brewer', 'Primoz Brezec', 'Frankie Brian', 'Frank Brickowski', 'Junior Bridgeman', 'Bill Bridges', 'Al Brightman', 'Aud Brindley', 'John Brisker', 'Allan Bristow', 'Tyrone Britt', 'Wayman Britt', 'Mike Brittain', 'Dave Britton', 'Jon Brockman', 'Jim Brogan', 'Malcolm Brogdon', 'Gary Brokaw', 'Price Brookfield', 'Clarence Brookins', 'Aaron Brooks', 'Dillon Brooks', 'Kevin Brooks', 'MarShon Brooks', 'Michael Brooks', 'Scott Brooks', 'Andre Brown', 'Anthony Brown', 'Bob Brown', 'Bobby Brown', 'Chucky Brown', 'Damone Brown', 'Darrell Brown', 'Dee Brown', 'Dee Brown', 'Derrick Brown', 'Devin Brown', 'Ernest Brown', 'Fred Brown', 'George Brown', 'Gerald Brown', 'Harold Brown', 'Jabari Brown', 'Jaylen Brown', 'John Brown', 'Kedrick Brown', 'Kwame Brown', 'Larry Brown*', 'Leon Brown', 'Lewis Brown', 'Lorenzo Brown', 'Marcus Brown', 'Markel Brown', 'Mike Brown', 'Myron Brown', 'P.J. Brown', 'Randy Brown', 'Raymond Brown', 'Rickey Brown', 'Roger Brown*', 'Roger Brown', 'Shannon Brown', 'Stan Brown', 'Sterling Brown', 'Tierre Brown', 'Tony Brown', 'Jim Browne', 'Stanley Brundy', 'Brian Brunkhorst', 'George Bruns', 'Rick Brunson', 'Nicolas Brussino', 'Em Bryant', 'Joe Bryant', 'Kobe Bryant', 'Mark Bryant', 'Thomas Bryant', 'Wallace Bryant', 'Torgeir Bryn', 'George Bucci', 'Joe Buckhalter', 'Steve Bucknall', 'Cleveland Buckner', 'Greg Buckner', 'Quinn Buckner', 'Dave Budd', 'Chase Budinger', 'Walt Budko', 'Jud Buechler', 'Rodney Buford', 'Matt Bullard', 'Reggie Bullock', 'Larry Bunce', 'Greg Bunch', 'Dick Bunt', 'Bill Buntin', 'Bill Bunting', 'Ticky Burden', 'Pat Burke', 'Trey Burke', 'Roger Burkman', 'Alec Burks', 'Antonio Burks', 'Kevin Burleson', 'Tom Burleson', 'Jack Burmaster', 'David Burns', 'Evers Burns', 'Jim Burns', 'Scott Burrell', 'Art Burris', 'Junior Burrough', 'Bob Burrow', 'Ed Burton', 'Willie Burton', 'Steve Burtt', 'Don Buse', 'David Bustion', 'Donnie Butcher', 'Al Butler', 'Caron Butler', 'Greg Butler', 'Jackie Butler', 'Jimmy Butler', 'Mike Butler', 'Mitchell Butler', 'Rasual Butler', 'Dwight Buycks', 'Derrick Byars', 'Andrew Bynum', 'Will Bynum', 'Walter Byrd', 'Marty Byrnes', 'Tommy Byrnes', 'Michael Bytzura']\n"
     ]
    },
    {
     "data": {
      "text/plain": [
       "589"
      ]
     },
     "execution_count": 3,
     "metadata": {},
     "output_type": "execute_result"
    }
   ],
   "source": [
    "\n",
    "for url in url_list:\n",
    "    html = urlopen(url)\n",
    "    soup = BeautifulSoup(html, 'lxml')\n",
    "    data_rows = soup.findAll('tr')\n",
    "    info = [[td.getText() for td in data_rows[i].findAll('th')]\n",
    "                  for i in range(len(data_rows))]\n",
    "    for i in info:\n",
    "        if i != categories:\n",
    "            name_list.append(i[0])\n",
    "print(name_list)\n",
    "len(name_list)\n",
    "    \n",
    "\n",
    "    \n",
    "   \n"
   ]
  },
  {
   "cell_type": "code",
   "execution_count": 4,
   "metadata": {
    "collapsed": true
   },
   "outputs": [],
   "source": [
    "# Now that we have all the players names in our list, when someone enters a playername, we can now take \n",
    "# to the page that contains all of the players statistics. "
   ]
  },
  {
   "cell_type": "code",
   "execution_count": 5,
   "metadata": {
    "collapsed": true
   },
   "outputs": [],
   "source": [
    "# We want a program that can extract a players data and display it as a Pandas DB.\n",
    "\n",
    "def dataextract(url):\n",
    "    html = urlopen(url)\n",
    "    soup = BeautifulSoup(html,'lxml')\n",
    "    headers = [th.getText() for th in soup.findAll('tr')[0].findAll('th')]\n",
    "    "
   ]
  },
  {
   "cell_type": "code",
   "execution_count": 20,
   "metadata": {},
   "outputs": [],
   "source": [
    "# This Program will take the name of the player given, and convert the string the form \"5 letters of last name\"\n",
    "# + 2 letter of first name + 01. Then it will return the url that we want to access. \n",
    "\n",
    "# String(Playername) -> String(site page for player)\n",
    "\n",
    "def stringclean(x):\n",
    "    wholename = x.split()\n",
    "    firstname = wholename[0]\n",
    "    lastname = wholename[1]\n",
    "    firstletter = (str(lastname)[:1]).lower()\n",
    "    strname = (str(lastname)[:5]).lower() + (str(firstname[:2])).lower() + '01'\n",
    "    playerpage = 'https://www.basketball-reference.com/players/{}/{}.html'.format(firstletter, strname)\n",
    "    return playerpage \n",
    "    \n",
    "\n"
   ]
  },
  {
   "cell_type": "code",
   "execution_count": 21,
   "metadata": {
    "collapsed": true
   },
   "outputs": [],
   "source": [
    "# From the above list of players names, we will now go through the website and take their data, storing it in a Pandas Dataframe. \n"
   ]
  },
  {
   "cell_type": "code",
   "execution_count": null,
   "metadata": {},
   "outputs": [],
   "source": [
    "# This module will allow us a user to type in a players name and display statistics accordingly. \n",
    "# The function that we run will first ask for a players name, after verifying that it is a real player, \n",
    "# the console will prompt the user into taking an action. \n",
    "\n",
    "\n",
    "def func():\n",
    "    x = input(\"Give a name\")\n",
    "    if x in name_list:\n",
    "        playerpage = stringclean(x)\n",
    "        print(playerpage)\n",
    "        #wholename = x.split()\n",
    "        #firstname = wholename[0]\n",
    "        #lastname = wholename[1]\n",
    "        #firstletter = (str(lastname)[:1]).lower()\n",
    "        #strname = (str(lastname)[:5]).lower() + (str(firstname[:2])).lower() + '01'\n",
    "        #playerpage = 'https://www.basketball-reference.com/players/{}/{}.html'.format(firstletter, strname)\n",
    "        #dataextract(playerpage)\n",
    "        \n",
    "    else:\n",
    "        func()\n",
    "    \n",
    "    \n",
    "func() \n"
   ]
  },
  {
   "cell_type": "code",
   "execution_count": null,
   "metadata": {
    "collapsed": true
   },
   "outputs": [],
   "source": []
  }
 ],
 "metadata": {
  "kernelspec": {
   "display_name": "Python 3",
   "language": "python",
   "name": "python3"
  },
  "language_info": {
   "codemirror_mode": {
    "name": "ipython",
    "version": 3
   },
   "file_extension": ".py",
   "mimetype": "text/x-python",
   "name": "python",
   "nbconvert_exporter": "python",
   "pygments_lexer": "ipython3",
   "version": "3.6.3"
  }
 },
 "nbformat": 4,
 "nbformat_minor": 2
}
